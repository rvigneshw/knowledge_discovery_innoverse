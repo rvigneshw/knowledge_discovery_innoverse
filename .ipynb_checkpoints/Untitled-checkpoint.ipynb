{
 "cells": [
  {
   "cell_type": "code",
   "execution_count": null,
   "metadata": {},
   "outputs": [],
   "source": [
    "import grequests\n"
   ]
  },
  {
   "cell_type": "code",
   "execution_count": null,
   "metadata": {},
   "outputs": [],
   "source": [
    "urls = [\n",
    "    'http://www.heroku.com',\n",
    "    'http://python-tablib.org',\n",
    "    'http://httpbin.org',\n",
    "    'http://python-requests.org',\n",
    "    'http://fakedomain/',\n",
    "    'http://kennethreitz.com'\n",
    "]"
   ]
  }
 ],
 "metadata": {
  "kernelspec": {
   "display_name": "Python 3",
   "language": "python",
   "name": "python3"
  }
 },
 "nbformat": 4,
 "nbformat_minor": 2
}
